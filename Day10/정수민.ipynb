{
 "cells": [
  {
   "attachments": {},
   "cell_type": "markdown",
   "metadata": {},
   "source": [
    "## 1번\n",
    "#### 반지름 값을 입력받아 원의 넓이를 구하여 출력하는 프로그램을 구현하세요. π는 3.141592 입니다. 모듈을 사용하여도 됩니다~!!\n"
   ]
  },
  {
   "cell_type": "code",
   "execution_count": 70,
   "metadata": {},
   "outputs": [
    {
     "name": "stdout",
     "output_type": "stream",
     "text": [
      "원의 넓이는 314.1592 입니다.\n"
     ]
    }
   ],
   "source": [
    "def circle(r):\n",
    "    pi = 3.141592\n",
    "    area = r**2*pi\n",
    "    print(\"원의 넓이는\", format(area), \"입니다.\")\n",
    "\n",
    "r = float(input(\"반지름을 입력해주세요.\"))\n",
    "circle(r)"
   ]
  },
  {
   "attachments": {},
   "cell_type": "markdown",
   "metadata": {},
   "source": [
    "## 2번\n",
    "\n",
    "#### 태양계는 수성, 금성, 지구, 화성, 목성, 토성, 천왕성, 해왕성으로 구성됩니다. 영어 이름은 Mercury, Venus, Earth, Mars, Jupiter,  Saturn, Uranus, Neptune 입니다.  행성의 영어 이름을 입력하면 한글 행성 이름이 출력 되는 프로그램을 구현하세요."
   ]
  },
  {
   "cell_type": "code",
   "execution_count": 68,
   "metadata": {},
   "outputs": [
    {
     "name": "stdout",
     "output_type": "stream",
     "text": [
      "지구\n"
     ]
    }
   ],
   "source": [
    "planet = input('행성의 이름을 영어로 입력하세요')\n",
    "\n",
    "if planet == 'Mercury':\n",
    "    print('수성')\n",
    "elif planet == 'Venus':\n",
    "    print('금성')\n",
    "elif planet == 'Earth':\n",
    "    print('지구')\n",
    "elif planet == 'Mars':\n",
    "    print('화성')\n",
    "elif planet == 'Jupitor':\n",
    "    print('목성')\n",
    "elif planet == 'Saturn':\n",
    "    print('토성')\n",
    "elif planet == 'Uranus':\n",
    "    print('천왕성')\n",
    "elif planet == 'Neptun':\n",
    "    print('해왕성')\n",
    "\n"
   ]
  },
  {
   "attachments": {},
   "cell_type": "markdown",
   "metadata": {},
   "source": [
    "## 3번\n",
    "\n",
    "#### 입력한 영어 문자열의 단어의 수를 출력하고 입력된 단어를 짝수로 대문자로 변경하여 출력하는 프로그램을 구현하세요. \n",
    "#### 예) I'm going to leave the door open = 7 / \n",
    "#### I'm GOING to LEAVE the DOOR open"
   ]
  },
  {
   "cell_type": "code",
   "execution_count": 66,
   "metadata": {},
   "outputs": [
    {
     "name": "stdout",
     "output_type": "stream",
     "text": [
      "문자열의 단어의 수 7\n",
      "I'm GOING to LEAVE the DOOR open\n"
     ]
    }
   ],
   "source": [
    "upper = []\n",
    "\n",
    "txt = input('문장을 영어로 입력하세요.').split(' ')\n",
    "a = len(txt)\n",
    "\n",
    "for j in range(a):\n",
    "     \n",
    "    if (j+1) % 2 == 0:\n",
    "        upper.append(txt[j].upper())\n",
    "    else:\n",
    "        upper.append(txt[j])\n",
    "       \n",
    "print('문자열의 단어의 수', a)\n",
    "print(*upper)\n",
    "\n"
   ]
  },
  {
   "attachments": {},
   "cell_type": "markdown",
   "metadata": {},
   "source": [
    "## 4번\n",
    "\n",
    "#### 입력한 수를 거꾸로 출력하는 프로그램을 구현하세요. 예) 1 3 5 7 9 --> 9 7 5 3 1"
   ]
  },
  {
   "cell_type": "code",
   "execution_count": 72,
   "metadata": {},
   "outputs": [
    {
     "name": "stdout",
     "output_type": "stream",
     "text": [
      "9 7 5 3 1\n"
     ]
    }
   ],
   "source": [
    "txt = input('숫자를 2개 이상 입력하세요.')\n",
    "\n",
    "print(txt[::-1])"
   ]
  },
  {
   "attachments": {},
   "cell_type": "markdown",
   "metadata": {},
   "source": [
    "## 5번\n",
    "\n",
    "#### 구구단을 수행할 단번호를 입력하면 그 단의 9까지의 결과를 나열하는 프로그램을 입력하세요. 예) 3 --> 3 6 9 12 15 18 21 24 27"
   ]
  },
  {
   "cell_type": "code",
   "execution_count": 65,
   "metadata": {},
   "outputs": [
    {
     "name": "stdout",
     "output_type": "stream",
     "text": [
      "-- 8 단 --\n",
      "8 X 1 = 8\n",
      "8 X 2 = 16\n",
      "8 X 3 = 24\n",
      "8 X 4 = 32\n",
      "8 X 5 = 40\n",
      "8 X 6 = 48\n",
      "8 X 7 = 56\n",
      "8 X 8 = 64\n",
      "8 X 9 = 72\n"
     ]
    }
   ],
   "source": [
    "a = int(input(\"1~9중 숫자 하나를 입력하세요.\"))\n",
    "print('--', a, '단 --')\n",
    "for i in range(1, 10):\n",
    "    print(a, 'X', i, '=', a*i)\n"
   ]
  }
 ],
 "metadata": {
  "kernelspec": {
   "display_name": "venv",
   "language": "python",
   "name": "python3"
  },
  "language_info": {
   "codemirror_mode": {
    "name": "ipython",
    "version": 3
   },
   "file_extension": ".py",
   "mimetype": "text/x-python",
   "name": "python",
   "nbconvert_exporter": "python",
   "pygments_lexer": "ipython3",
   "version": "3.11.1"
  },
  "orig_nbformat": 4,
  "vscode": {
   "interpreter": {
    "hash": "8c1af407cf8f30193e069c18951d03cbcbc5921da2106bc8ee3f686140a7f142"
   }
  }
 },
 "nbformat": 4,
 "nbformat_minor": 2
}
