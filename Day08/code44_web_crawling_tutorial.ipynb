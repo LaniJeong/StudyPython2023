{
 "cells": [
  {
   "attachments": {},
   "cell_type": "markdown",
   "metadata": {},
   "source": [
    "## 웹 크롤링\n",
    "\n",
    "### 인터넷 접속 라이브러리 추가\n",
    "\n"
   ]
  },
  {
   "cell_type": "code",
   "execution_count": 16,
   "metadata": {},
   "outputs": [
    {
     "name": "stdout",
     "output_type": "stream",
     "text": [
      "부산의 현재 기온은 7.1˚C 입니다.\n",
      "부산의 현재 습도는 41% 입니다.\n"
     ]
    }
   ],
   "source": [
    "from urllib.request import urlopen, Request\n",
    "\n",
    "# 도시별 날씨 검색함수\n",
    "def get_weather(city):\n",
    "    # 기상청 홈페이지 도시별 날씨 페이지\n",
    "    url = 'https://www.weather.go.kr/w/obs-climate/land/city-obs.do'\n",
    "    page = urlopen(url=url)\n",
    "\n",
    "    text = page.read().decode('utf-8')\n",
    "    text = text[text.find(f'>{city}</a>'):]\n",
    "\n",
    "    # 기온 가져오기\n",
    "    for i in range(7):\n",
    "       text = text[text.find('<td>')+1:] \n",
    "       \n",
    "\n",
    "    start = 3\n",
    "    end = text.find('</td>')\n",
    "    current_temp = text[start:end]\n",
    "    print(f'{city}의 현재 기온은 {current_temp}˚C 입니다.')\n",
    "\n",
    "# 습도 가져오기\n",
    "    for i in range(3):\n",
    "       text = text[text.find('<td>')+1:] \n",
    "       \n",
    "\n",
    "    start = 3\n",
    "    end = text.find('</td>')\n",
    "    current_humid = text[start:end]\n",
    "    print(f'{city}의 현재 습도는 {current_humid}% 입니다.')\n",
    "\n",
    "get_weather('부산')\n"
   ]
  },
  {
   "attachments": {},
   "cell_type": "markdown",
   "metadata": {},
   "source": [
    "### OpenAPI 크롤링\n",
    "\n",
    "- 공공데이터 포털\n",
    "    - https://www.data.go.kr\n",
    "    - 부산광역시 버스정보안내기 현황"
   ]
  },
  {
   "cell_type": "code",
   "execution_count": 21,
   "metadata": {},
   "outputs": [
    {
     "name": "stdout",
     "output_type": "stream",
     "text": [
      "<urlopen error [SSL: SSLV3_ALERT_ILLEGAL_PARAMETER] sslv3 alert illegal parameter (_ssl.c:992)>\n"
     ]
    },
    {
     "data": {
      "text/plain": [
       "'%EB%A1%AF%EB%8D%B0'"
      ]
     },
     "execution_count": 21,
     "metadata": {},
     "output_type": "execute_result"
    }
   ],
   "source": [
    "from urllib.request import urlopen, Request\n",
    "from urllib.parse import quote   # 한글을 URLencode 변환하는 함수 롯데 --> %EB%A1%AF%EB%8D%B0\n",
    "import json\n",
    "\n",
    "def getRequestUrl(url):\n",
    "    req = Request(url)\n",
    "\n",
    "    try:\n",
    "        res = urlopen(req)\n",
    "        if res.getcode() == 200:\n",
    "            return res.read().decode('utf-8')\n",
    "    except Exception as e:\n",
    "        print(e)\n",
    "        return None\n",
    "\n",
    "# stationName 정류소이름\n",
    "def getDataPortalSearch(stationName, type):\n",
    "    api_url = 'https://apis.data.go.kr/6260000/BusanTblBusinfoeqStusService/getTblBusinfoeqStusInfo'\n",
    "    api_url += '?serviceKey=Q3R5dAv8J37EqouPg97nKYcw2aCt2RsYHZpjzKERhKAminzU%2FKlCYlr59sCIBSNROEHCIMixAkdLEW7eRo8xpA%3D%3D'\n",
    "    api_url += '&pageNo=1'\n",
    "    api_url += '&numOfRows=10'\n",
    "    api_url += f'&resultType={type}'\n",
    "    api_url += f'&stationLoc={quote(stationName)}'\n",
    "\n",
    "    response = getRequestUrl(api_url)\n",
    "\n",
    "    if response == None:\n",
    "        return None\n",
    "    else:\n",
    "        return json.loads(response)\n",
    "\n",
    "getDataPortalSearch('롯데백화점', 'json')\n",
    "\n",
    "quote('롯데')\n",
    "\n"
   ]
  }
 ],
 "metadata": {
  "kernelspec": {
   "display_name": "venv",
   "language": "python",
   "name": "python3"
  },
  "language_info": {
   "codemirror_mode": {
    "name": "ipython",
    "version": 3
   },
   "file_extension": ".py",
   "mimetype": "text/x-python",
   "name": "python",
   "nbconvert_exporter": "python",
   "pygments_lexer": "ipython3",
   "version": "3.11.1"
  },
  "orig_nbformat": 4,
  "vscode": {
   "interpreter": {
    "hash": "8c1af407cf8f30193e069c18951d03cbcbc5921da2106bc8ee3f686140a7f142"
   }
  }
 },
 "nbformat": 4,
 "nbformat_minor": 2
}
