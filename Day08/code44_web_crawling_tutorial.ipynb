{
 "cells": [
  {
   "attachments": {},
   "cell_type": "markdown",
   "metadata": {},
   "source": [
    "## 웹 크롤링\n",
    "\n",
    "### 인터넷 접속 라이브러리 추가\n",
    "\n"
   ]
  },
  {
   "cell_type": "code",
   "execution_count": 16,
   "metadata": {},
   "outputs": [
    {
     "name": "stdout",
     "output_type": "stream",
     "text": [
      "부산의 현재 기온은 7.1˚C 입니다.\n",
      "부산의 현재 습도는 41% 입니다.\n"
     ]
    }
   ],
   "source": [
    "from urllib.request import urlopen, Request\n",
    "\n",
    "# 도시별 날씨 검색함수\n",
    "def get_weather(city):\n",
    "    # 기상청 홈페이지 도시별 날씨 페이지\n",
    "    url = 'https://www.weather.go.kr/w/obs-climate/land/city-obs.do'\n",
    "    page = urlopen(url=url)\n",
    "\n",
    "    text = page.read().decode('utf-8')\n",
    "    text = text[text.find(f'>{city}</a>'):]\n",
    "\n",
    "    # 기온 가져오기\n",
    "    for i in range(7):\n",
    "       text = text[text.find('<td>')+1:] \n",
    "       \n",
    "\n",
    "    start = 3\n",
    "    end = text.find('</td>')\n",
    "    current_temp = text[start:end]\n",
    "    print(f'{city}의 현재 기온은 {current_temp}˚C 입니다.')\n",
    "\n",
    "# 습도 가져오기\n",
    "    for i in range(3):\n",
    "       text = text[text.find('<td>')+1:] \n",
    "       \n",
    "\n",
    "    start = 3\n",
    "    end = text.find('</td>')\n",
    "    current_humid = text[start:end]\n",
    "    print(f'{city}의 현재 습도는 {current_humid}% 입니다.')\n",
    "\n",
    "get_weather('부산')\n"
   ]
  },
  {
   "attachments": {},
   "cell_type": "markdown",
   "metadata": {},
   "source": [
    "### OpenAPI 크롤링\n",
    "\n",
    "- 공공데이터 포털\n",
    "    - https://www.data.go.kr\n",
    "    - 부산광역시 버스정보안내기 현황"
   ]
  },
  {
   "cell_type": "code",
   "execution_count": 21,
   "metadata": {},
   "outputs": [
    {
     "name": "stdout",
     "output_type": "stream",
     "text": [
      "<urlopen error [SSL: SSLV3_ALERT_ILLEGAL_PARAMETER] sslv3 alert illegal parameter (_ssl.c:992)>\n"
     ]
    },
    {
     "data": {
      "text/plain": [
       "'%EB%A1%AF%EB%8D%B0'"
      ]
     },
     "execution_count": 21,
     "metadata": {},
     "output_type": "execute_result"
    }
   ],
   "source": [
    "from urllib.request import urlopen, Request\n",
    "from urllib.parse import quote   # 한글을 URLencode 변환하는 함수 롯데 --> %EB%A1%AF%EB%8D%B0\n",
    "import json\n",
    "\n",
    "def getRequestUrl(url):\n",
    "    req = Request(url)\n",
    "\n",
    "    try:\n",
    "        res = urlopen(req)\n",
    "        if res.getcode() == 200:\n",
    "            return res.read().decode('utf-8')\n",
    "    except Exception as e:\n",
    "        print(e)\n",
    "        return None\n",
    "\n",
    "# stationName 정류소이름\n",
    "def getDataPortalSearch(stationName, type):\n",
    "    api_url = 'https://apis.data.go.kr/6260000/BusanTblBusinfoeqStusService/getTblBusinfoeqStusInfo'\n",
    "    api_url += '?serviceKey=Q3R5dAv8J37EqouPg97nKYcw2aCt2RsYHZpjzKERhKAminzU%2FKlCYlr59sCIBSNROEHCIMixAkdLEW7eRo8xpA%3D%3D'\n",
    "    api_url += '&pageNo=1'\n",
    "    api_url += '&numOfRows=10'\n",
    "    api_url += f'&resultType={type}'\n",
    "    api_url += f'&stationLoc={quote(stationName)}'\n",
    "\n",
    "    response = getRequestUrl(api_url)\n",
    "\n",
    "    if response == None:\n",
    "        return None\n",
    "    else:\n",
    "        return json.loads(response)\n",
    "\n",
    "getDataPortalSearch('롯데백화점', 'json')\n",
    "\n",
    "quote('롯데')\n",
    "\n"
   ]
  },
  {
   "attachments": {},
   "cell_type": "markdown",
   "metadata": {},
   "source": [
    "### BeautifulSoup (ver.4)\n",
    "\n",
    "웹크롤링을 편하게 해주는 도구(라이브러리)\n",
    "\n",
    "``` shell\n",
    "pip installl beautifulsoup4\n",
    "```"
   ]
  },
  {
   "cell_type": "code",
   "execution_count": 22,
   "metadata": {},
   "outputs": [
    {
     "name": "stdout",
     "output_type": "stream",
     "text": [
      "Collecting beautifulsoup4\n",
      "  Downloading beautifulsoup4-4.11.2-py3-none-any.whl (129 kB)\n",
      "     -------------------------------------- 129.4/129.4 kB 3.7 MB/s eta 0:00:00\n",
      "Collecting soupsieve>1.2\n",
      "  Downloading soupsieve-2.3.2.post1-py3-none-any.whl (37 kB)\n",
      "Installing collected packages: soupsieve, beautifulsoup4\n",
      "Successfully installed beautifulsoup4-4.11.2 soupsieve-2.3.2.post1\n"
     ]
    },
    {
     "name": "stderr",
     "output_type": "stream",
     "text": [
      "\n",
      "[notice] A new release of pip available: 22.3.1 -> 23.0\n",
      "[notice] To update, run: python.exe -m pip install --upgrade pip\n"
     ]
    }
   ],
   "source": [
    "!pip install beautifulsoup4"
   ]
  },
  {
   "attachments": {},
   "cell_type": "markdown",
   "metadata": {},
   "source": [
    "#### 모듈 import\n",
    "\n",
    "```python\n",
    "from bs4 import BeautifulSoup\n",
    "```\n",
    "\n"
   ]
  },
  {
   "cell_type": "markdown",
   "metadata": {},
   "source": []
  },
  {
   "cell_type": "code",
   "execution_count": 25,
   "metadata": {},
   "outputs": [
    {
     "name": "stdout",
     "output_type": "stream",
     "text": [
      "제임스웹 우주망원경 질문이요\n"
     ]
    }
   ],
   "source": [
    "from bs4 import BeautifulSoup\n",
    "import requests \n",
    "\n",
    "url = \"https://kin.naver.com/search/list.naver?query=%EC%A0%9C%EC%9E%84%EC%8A%A4%EC%9B%B9%EB%A7%9D%EC%9B%90%EA%B2%BD\"\n",
    "\n",
    "response = requests.get(url)\n",
    "\n",
    "if response.status_code == 200:  # webpage OK\n",
    "    html = response.text\n",
    "    soup = BeautifulSoup(html, 'html.parser')\n",
    "    #print(soup)\n",
    "    title = soup.select_one('#s_content > div.section > ul > li:nth-child(1) > dl > dt > a')\n",
    "    print(title.get_text())\n",
    "else:\n",
    "    print(f'Error : {response.status_code}')\n",
    "\n"
   ]
  },
  {
   "cell_type": "code",
   "execution_count": 28,
   "metadata": {},
   "outputs": [
    {
     "name": "stdout",
     "output_type": "stream",
     "text": [
      "제임스웹 우주망원경 질문이요\n",
      "제임스 웹 망원경의 종류 알려주세요\n",
      "최고고도 부탁드립니다. 제임스웹 망원경이\n",
      "제임스 웹 망원경 우주사진 원본 어디서... \n",
      "제임스 웹 우주망원경이 찍은 첫 사진은... \n",
      "제임스 웹 망원경\n",
      "제임스 웹 망원경 촬영 원리\n",
      "제임스웹망원경 촬영질문\n",
      "제임스 웹 우주망원경\n",
      "제임스웹 망원경\n"
     ]
    }
   ],
   "source": [
    "from bs4 import BeautifulSoup\n",
    "import requests \n",
    "\n",
    "url = \"https://kin.naver.com/search/list.naver?query=%EC%A0%9C%EC%9E%84%EC%8A%A4%EC%9B%B9%EB%A7%9D%EC%9B%90%EA%B2%BD\"\n",
    "\n",
    "response = requests.get(url)\n",
    "\n",
    "if response.status_code == 200:  # webpage OK\n",
    "    html = response.text\n",
    "    soup = BeautifulSoup(html, 'html.parser')\n",
    "    #print(soup)\n",
    "    title = soup.select_one('#s_content > div.section > ul > li:nth-child(1) > dl > dt > a')\n",
    "    ul = soup.select_one('ul.basic1')\n",
    "    titles = ul.select('li > dl > dt > a')\n",
    "    for title in titles:\n",
    "        print(title.get_text())\n",
    "else:\n",
    "    print(f'Error : {response.status_code}')"
   ]
  }
 ],
 "metadata": {
  "kernelspec": {
   "display_name": "venv",
   "language": "python",
   "name": "python3"
  },
  "language_info": {
   "codemirror_mode": {
    "name": "ipython",
    "version": 3
   },
   "file_extension": ".py",
   "mimetype": "text/x-python",
   "name": "python",
   "nbconvert_exporter": "python",
   "pygments_lexer": "ipython3",
   "version": "3.11.1"
  },
  "orig_nbformat": 4,
  "vscode": {
   "interpreter": {
    "hash": "8c1af407cf8f30193e069c18951d03cbcbc5921da2106bc8ee3f686140a7f142"
   }
  }
 },
 "nbformat": 4,
 "nbformat_minor": 2
}
